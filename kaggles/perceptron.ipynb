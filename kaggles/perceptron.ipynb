{
 "cells": [
  {
   "attachments": {},
   "cell_type": "markdown",
   "metadata": {},
   "source": [
    "## Setup"
   ]
  },
  {
   "cell_type": "code",
   "execution_count": 1,
   "metadata": {},
   "outputs": [],
   "source": [
    "# Common imports\n",
    "import numpy as np\n",
    "import os\n",
    "\n",
    "# Plot pretty\n",
    "%matplotlib inline\n",
    "import matplotlib as mpl\n",
    "import matplotlib.pyplot as plt\n",
    "mpl.rc('axes', labelsize=14)\n",
    "mpl.rc('xtick', labelsize=12)\n",
    "mpl.rc('ytick', labelsize=12)\n",
    "\n",
    "# Where to save the figures\n",
    "PROJECT_ROOT = \".\"\n",
    "PROJECT_ID = \"perceptron\"\n",
    "IMG_PATH = os.path.join(PROJECT_ROOT, \"images\", PROJECT_ID)\n",
    "os.makedirs(IMG_PATH, exist_ok=True)\n",
    "\n",
    "def save_fig(fig_id, tight_layout=True, fig_extension=\"png\", resolution=300):\n",
    "    path = os.path.join(IMG_PATH, fig_id + \".\" + fig_extension)\n",
    "    print(\"Saving figure...\", fig_id)\n",
    "    if tight_layout:\n",
    "        plt.tight_layout()\n",
    "    plt.savefig(path, format=fig_extension, dpi=resolution)\n",
    "\n",
    "# Ignore useless warnings\n",
    "import warnings\n",
    "warnings.filterwarnings(action=\"ignore\",message=\"^internal gelsd\")"
   ]
  },
  {
   "attachments": {},
   "cell_type": "markdown",
   "metadata": {},
   "source": [
    "## Get the data"
   ]
  },
  {
   "cell_type": "code",
   "execution_count": 10,
   "metadata": {},
   "outputs": [],
   "source": [
    "import os\n",
    "import urllib\n",
    "\n",
    "DOWNLOAD_ROOT = \"https://raw.githubusercontent.com/TuZhechen/hello_world/main/\"\n",
    "DATA_URL = DOWNLOAD_ROOT + \"kaggles/diabetes/diabetes_prediction_dataset.csv\"\n",
    "LOCAL_PATH = \"./diabetes\"\n",
    "\n",
    "def fetch_data(data_url=DATA_URL, local_path=LOCAL_PATH):\n",
    "    if not os.path.isdir(local_path):\n",
    "        os.makedirs(local_path)\n",
    "    target_path = os.path.join(local_path, \"diabetes.csv\")\n",
    "    urllib.request.urlretrieve(data_url, target_path)"
   ]
  },
  {
   "cell_type": "code",
   "execution_count": 11,
   "metadata": {},
   "outputs": [],
   "source": [
    "fetch_data()"
   ]
  },
  {
   "cell_type": "code",
   "execution_count": 12,
   "metadata": {},
   "outputs": [],
   "source": [
    "import pandas as pd\n",
    "\n",
    "def load_data(local_path=LOCAL_PATH):\n",
    "    csv_path = os.path.join(local_path, \"diabetes.csv\")\n",
    "    return pd.read_csv(csv_path)"
   ]
  },
  {
   "attachments": {},
   "cell_type": "markdown",
   "metadata": {},
   "source": [
    "## Data review and preproc"
   ]
  },
  {
   "cell_type": "code",
   "execution_count": 13,
   "metadata": {},
   "outputs": [
    {
     "data": {
      "text/html": [
       "<div>\n",
       "<style scoped>\n",
       "    .dataframe tbody tr th:only-of-type {\n",
       "        vertical-align: middle;\n",
       "    }\n",
       "\n",
       "    .dataframe tbody tr th {\n",
       "        vertical-align: top;\n",
       "    }\n",
       "\n",
       "    .dataframe thead th {\n",
       "        text-align: right;\n",
       "    }\n",
       "</style>\n",
       "<table border=\"1\" class=\"dataframe\">\n",
       "  <thead>\n",
       "    <tr style=\"text-align: right;\">\n",
       "      <th></th>\n",
       "      <th>gender</th>\n",
       "      <th>age</th>\n",
       "      <th>hypertension</th>\n",
       "      <th>heart_disease</th>\n",
       "      <th>smoking_history</th>\n",
       "      <th>bmi</th>\n",
       "      <th>HbA1c_level</th>\n",
       "      <th>blood_glucose_level</th>\n",
       "      <th>diabetes</th>\n",
       "    </tr>\n",
       "  </thead>\n",
       "  <tbody>\n",
       "    <tr>\n",
       "      <th>0</th>\n",
       "      <td>Female</td>\n",
       "      <td>80.0</td>\n",
       "      <td>0</td>\n",
       "      <td>1</td>\n",
       "      <td>never</td>\n",
       "      <td>25.19</td>\n",
       "      <td>6.6</td>\n",
       "      <td>140</td>\n",
       "      <td>0</td>\n",
       "    </tr>\n",
       "    <tr>\n",
       "      <th>1</th>\n",
       "      <td>Female</td>\n",
       "      <td>54.0</td>\n",
       "      <td>0</td>\n",
       "      <td>0</td>\n",
       "      <td>No Info</td>\n",
       "      <td>27.32</td>\n",
       "      <td>6.6</td>\n",
       "      <td>80</td>\n",
       "      <td>0</td>\n",
       "    </tr>\n",
       "    <tr>\n",
       "      <th>2</th>\n",
       "      <td>Male</td>\n",
       "      <td>28.0</td>\n",
       "      <td>0</td>\n",
       "      <td>0</td>\n",
       "      <td>never</td>\n",
       "      <td>27.32</td>\n",
       "      <td>5.7</td>\n",
       "      <td>158</td>\n",
       "      <td>0</td>\n",
       "    </tr>\n",
       "    <tr>\n",
       "      <th>3</th>\n",
       "      <td>Female</td>\n",
       "      <td>36.0</td>\n",
       "      <td>0</td>\n",
       "      <td>0</td>\n",
       "      <td>current</td>\n",
       "      <td>23.45</td>\n",
       "      <td>5.0</td>\n",
       "      <td>155</td>\n",
       "      <td>0</td>\n",
       "    </tr>\n",
       "    <tr>\n",
       "      <th>4</th>\n",
       "      <td>Male</td>\n",
       "      <td>76.0</td>\n",
       "      <td>1</td>\n",
       "      <td>1</td>\n",
       "      <td>current</td>\n",
       "      <td>20.14</td>\n",
       "      <td>4.8</td>\n",
       "      <td>155</td>\n",
       "      <td>0</td>\n",
       "    </tr>\n",
       "  </tbody>\n",
       "</table>\n",
       "</div>"
      ],
      "text/plain": [
       "   gender   age  hypertension  heart_disease smoking_history    bmi  \\\n",
       "0  Female  80.0             0              1           never  25.19   \n",
       "1  Female  54.0             0              0         No Info  27.32   \n",
       "2    Male  28.0             0              0           never  27.32   \n",
       "3  Female  36.0             0              0         current  23.45   \n",
       "4    Male  76.0             1              1         current  20.14   \n",
       "\n",
       "   HbA1c_level  blood_glucose_level  diabetes  \n",
       "0          6.6                  140         0  \n",
       "1          6.6                   80         0  \n",
       "2          5.7                  158         0  \n",
       "3          5.0                  155         0  \n",
       "4          4.8                  155         0  "
      ]
     },
     "execution_count": 13,
     "metadata": {},
     "output_type": "execute_result"
    }
   ],
   "source": [
    "diabetes = load_data()\n",
    "diabetes.head()"
   ]
  },
  {
   "cell_type": "code",
   "execution_count": 20,
   "metadata": {},
   "outputs": [
    {
     "name": "stdout",
     "output_type": "stream",
     "text": [
      "<class 'pandas.core.frame.DataFrame'>\n",
      "RangeIndex: 100000 entries, 0 to 99999\n",
      "Data columns (total 9 columns):\n",
      " #   Column               Non-Null Count   Dtype  \n",
      "---  ------               --------------   -----  \n",
      " 0   gender               100000 non-null  object \n",
      " 1   age                  100000 non-null  float32\n",
      " 2   hypertension         100000 non-null  uint8  \n",
      " 3   heart_disease        100000 non-null  uint8  \n",
      " 4   smoking_history      100000 non-null  object \n",
      " 5   bmi                  100000 non-null  float32\n",
      " 6   HbA1c_level          100000 non-null  float32\n",
      " 7   blood_glucose_level  100000 non-null  float32\n",
      " 8   diabetes             100000 non-null  uint8  \n",
      "dtypes: float32(4), object(2), uint8(3)\n",
      "memory usage: 3.3+ MB\n"
     ]
    }
   ],
   "source": [
    "diabetes.info()"
   ]
  },
  {
   "cell_type": "code",
   "execution_count": 15,
   "metadata": {},
   "outputs": [
    {
     "data": {
      "text/plain": [
       "No Info        35816\n",
       "never          35095\n",
       "former          9352\n",
       "current         9286\n",
       "not current     6447\n",
       "ever            4004\n",
       "Name: smoking_history, dtype: int64"
      ]
     },
     "execution_count": 15,
     "metadata": {},
     "output_type": "execute_result"
    }
   ],
   "source": [
    "diabetes.smoking_history.value_counts()"
   ]
  },
  {
   "cell_type": "code",
   "execution_count": 16,
   "metadata": {},
   "outputs": [
    {
     "data": {
      "text/plain": [
       "Female    58552\n",
       "Male      41430\n",
       "Other        18\n",
       "Name: gender, dtype: int64"
      ]
     },
     "execution_count": 16,
     "metadata": {},
     "output_type": "execute_result"
    }
   ],
   "source": [
    "diabetes.gender.value_counts()"
   ]
  },
  {
   "cell_type": "code",
   "execution_count": 19,
   "metadata": {},
   "outputs": [],
   "source": [
    "diabetes = diabetes.astype({\"age\": \"float32\", \"hypertension\": \"uint8\", \"heart_disease\": \"uint8\", \"bmi\": \"float32\", \n",
    "                 \"HbA1c_level\": \"float32\", \"blood_glucose_level\": \"float32\",\"diabetes\": \"uint8\"})"
   ]
  },
  {
   "cell_type": "code",
   "execution_count": 21,
   "metadata": {},
   "outputs": [
    {
     "data": {
      "text/html": [
       "<div>\n",
       "<style scoped>\n",
       "    .dataframe tbody tr th:only-of-type {\n",
       "        vertical-align: middle;\n",
       "    }\n",
       "\n",
       "    .dataframe tbody tr th {\n",
       "        vertical-align: top;\n",
       "    }\n",
       "\n",
       "    .dataframe thead th {\n",
       "        text-align: right;\n",
       "    }\n",
       "</style>\n",
       "<table border=\"1\" class=\"dataframe\">\n",
       "  <thead>\n",
       "    <tr style=\"text-align: right;\">\n",
       "      <th></th>\n",
       "      <th>age</th>\n",
       "      <th>hypertension</th>\n",
       "      <th>heart_disease</th>\n",
       "      <th>bmi</th>\n",
       "      <th>HbA1c_level</th>\n",
       "      <th>blood_glucose_level</th>\n",
       "      <th>diabetes</th>\n",
       "    </tr>\n",
       "  </thead>\n",
       "  <tbody>\n",
       "    <tr>\n",
       "      <th>count</th>\n",
       "      <td>100000.000000</td>\n",
       "      <td>100000.00000</td>\n",
       "      <td>100000.000000</td>\n",
       "      <td>100000.000000</td>\n",
       "      <td>100000.000000</td>\n",
       "      <td>100000.000000</td>\n",
       "      <td>100000.000000</td>\n",
       "    </tr>\n",
       "    <tr>\n",
       "      <th>mean</th>\n",
       "      <td>41.886036</td>\n",
       "      <td>0.07485</td>\n",
       "      <td>0.039420</td>\n",
       "      <td>27.321423</td>\n",
       "      <td>5.527035</td>\n",
       "      <td>138.058060</td>\n",
       "      <td>0.085000</td>\n",
       "    </tr>\n",
       "    <tr>\n",
       "      <th>std</th>\n",
       "      <td>22.516293</td>\n",
       "      <td>0.26315</td>\n",
       "      <td>0.194593</td>\n",
       "      <td>6.636746</td>\n",
       "      <td>1.070764</td>\n",
       "      <td>40.707127</td>\n",
       "      <td>0.278883</td>\n",
       "    </tr>\n",
       "    <tr>\n",
       "      <th>min</th>\n",
       "      <td>0.080000</td>\n",
       "      <td>0.00000</td>\n",
       "      <td>0.000000</td>\n",
       "      <td>10.010000</td>\n",
       "      <td>3.500000</td>\n",
       "      <td>80.000000</td>\n",
       "      <td>0.000000</td>\n",
       "    </tr>\n",
       "    <tr>\n",
       "      <th>25%</th>\n",
       "      <td>24.000000</td>\n",
       "      <td>0.00000</td>\n",
       "      <td>0.000000</td>\n",
       "      <td>23.629999</td>\n",
       "      <td>4.800000</td>\n",
       "      <td>100.000000</td>\n",
       "      <td>0.000000</td>\n",
       "    </tr>\n",
       "    <tr>\n",
       "      <th>50%</th>\n",
       "      <td>43.000000</td>\n",
       "      <td>0.00000</td>\n",
       "      <td>0.000000</td>\n",
       "      <td>27.320000</td>\n",
       "      <td>5.800000</td>\n",
       "      <td>140.000000</td>\n",
       "      <td>0.000000</td>\n",
       "    </tr>\n",
       "    <tr>\n",
       "      <th>75%</th>\n",
       "      <td>60.000000</td>\n",
       "      <td>0.00000</td>\n",
       "      <td>0.000000</td>\n",
       "      <td>29.580000</td>\n",
       "      <td>6.200000</td>\n",
       "      <td>159.000000</td>\n",
       "      <td>0.000000</td>\n",
       "    </tr>\n",
       "    <tr>\n",
       "      <th>max</th>\n",
       "      <td>80.000000</td>\n",
       "      <td>1.00000</td>\n",
       "      <td>1.000000</td>\n",
       "      <td>95.690002</td>\n",
       "      <td>9.000000</td>\n",
       "      <td>300.000000</td>\n",
       "      <td>1.000000</td>\n",
       "    </tr>\n",
       "  </tbody>\n",
       "</table>\n",
       "</div>"
      ],
      "text/plain": [
       "                 age  hypertension  heart_disease            bmi  \\\n",
       "count  100000.000000  100000.00000  100000.000000  100000.000000   \n",
       "mean       41.886036       0.07485       0.039420      27.321423   \n",
       "std        22.516293       0.26315       0.194593       6.636746   \n",
       "min         0.080000       0.00000       0.000000      10.010000   \n",
       "25%        24.000000       0.00000       0.000000      23.629999   \n",
       "50%        43.000000       0.00000       0.000000      27.320000   \n",
       "75%        60.000000       0.00000       0.000000      29.580000   \n",
       "max        80.000000       1.00000       1.000000      95.690002   \n",
       "\n",
       "         HbA1c_level  blood_glucose_level       diabetes  \n",
       "count  100000.000000        100000.000000  100000.000000  \n",
       "mean        5.527035           138.058060       0.085000  \n",
       "std         1.070764            40.707127       0.278883  \n",
       "min         3.500000            80.000000       0.000000  \n",
       "25%         4.800000           100.000000       0.000000  \n",
       "50%         5.800000           140.000000       0.000000  \n",
       "75%         6.200000           159.000000       0.000000  \n",
       "max         9.000000           300.000000       1.000000  "
      ]
     },
     "execution_count": 21,
     "metadata": {},
     "output_type": "execute_result"
    }
   ],
   "source": [
    "diabetes.describe()"
   ]
  },
  {
   "cell_type": "code",
   "execution_count": 22,
   "metadata": {},
   "outputs": [
    {
     "name": "stdout",
     "output_type": "stream",
     "text": [
      "Saving figure... attr_histo\n"
     ]
    },
    {
     "data": {
      "image/png": "[encoded data removed]",
      "text/plain": [
       "<Figure size 2000x1500 with 9 Axes>"
      ]
     },
     "metadata": {},
     "output_type": "display_data"
    }
   ],
   "source": [
    "%matplotlib inline\n",
    "import matplotlib.pyplot as plt\n",
    "diabetes.hist(bins=50, figsize=(20,15))\n",
    "save_fig(\"attr_histo\")\n",
    "plt.show()"
   ]
  },
  {
   "attachments": {},
   "cell_type": "markdown",
   "metadata": {},
   "source": [
    "## Sampling"
   ]
  },
  {
   "attachments": {},
   "cell_type": "markdown",
   "metadata": {},
   "source": [
    "### inital split"
   ]
  },
  {
   "cell_type": "code",
   "execution_count": 23,
   "metadata": {},
   "outputs": [],
   "source": [
    "np.random.seed(42)\n",
    "\n",
    "def split_train_test(data, test_ratio):\n",
    "    shuffled_indices = np.random.permutation(len(data))\n",
    "    test_set_size = int(len(data) * test_ratio)\n",
    "    test_indices = shuffled_indices[:test_set_size]\n",
    "    train_indices = shuffled_indices[test_set_size:]\n",
    "    return data.iloc[train_indices], data.iloc[test_indices]"
   ]
  },
  {
   "cell_type": "code",
   "execution_count": 24,
   "metadata": {},
   "outputs": [
    {
     "data": {
      "text/plain": [
       "20000"
      ]
     },
     "execution_count": 24,
     "metadata": {},
     "output_type": "execute_result"
    }
   ],
   "source": [
    "init_train_set, init_test_set = split_train_test(diabetes, 0.2)\n",
    "len(init_test_set)"
   ]
  },
  {
   "cell_type": "code",
   "execution_count": 25,
   "metadata": {},
   "outputs": [],
   "source": [
    "# Using scipy to split\n",
    "from sklearn.model_selection import train_test_split\n",
    "train_set, test_set = train_test_split(diabetes, test_size=0.2, random_state=42)\n"
   ]
  },
  {
   "attachments": {},
   "cell_type": "markdown",
   "metadata": {},
   "source": [
    "### stratified split"
   ]
  },
  {
   "cell_type": "code",
   "execution_count": 33,
   "metadata": {},
   "outputs": [
    {
     "data": {
      "text/plain": [
       "array([[<AxesSubplot:title={'center':'age'}>,\n",
       "        <AxesSubplot:title={'center':'bmi'}>]], dtype=object)"
      ]
     },
     "execution_count": 33,
     "metadata": {},
     "output_type": "execute_result"
    },
    {
     "data": {
      "image/png": "[encoded data removed]",
      "text/plain": [
       "<Figure size 1000x500 with 2 Axes>"
      ]
     },
     "metadata": {},
     "output_type": "display_data"
    }
   ],
   "source": [
    "diabetes[[\"age\", \"bmi\"]].hist(figsize=(10,5))"
   ]
  },
  {
   "cell_type": "code",
   "execution_count": 36,
   "metadata": {},
   "outputs": [],
   "source": [
    "diabetes[\"age_group\"]  = pd.cut(diabetes.age,\n",
    "                             bins=[0., 20., 40., 60., 80.],\n",
    "                             labels=[1, 2, 3, 4]).astype(\"uint8\")"
   ]
  },
  {
   "cell_type": "code",
   "execution_count": 37,
   "metadata": {},
   "outputs": [
    {
     "data": {
      "text/plain": [
       "3    29496\n",
       "2    25968\n",
       "4    23632\n",
       "1    20904\n",
       "Name: age, dtype: int64"
      ]
     },
     "execution_count": 37,
     "metadata": {},
     "output_type": "execute_result"
    }
   ],
   "source": [
    "diabetes.age_group.value_counts()"
   ]
  },
  {
   "cell_type": "code",
   "execution_count": 38,
   "metadata": {},
   "outputs": [],
   "source": [
    "from sklearn.model_selection import StratifiedShuffleSplit\n",
    "\n",
    "split = StratifiedShuffleSplit(n_splits=1, test_size=0.2, random_state=42)\n",
    "for train_index, test_index in split.split(diabetes, diabetes.age_group):\n",
    "    strat_train_set = diabetes.loc[train_index]\n",
    "    strat_test_set = diabetes.loc[test_index]"
   ]
  },
  {
   "cell_type": "code",
   "execution_count": 40,
   "metadata": {},
   "outputs": [
    {
     "data": {
      "text/plain": [
       "3    0.29495\n",
       "2    0.25970\n",
       "4    0.23630\n",
       "1    0.20905\n",
       "Name: age_group, dtype: float64"
      ]
     },
     "execution_count": 40,
     "metadata": {},
     "output_type": "execute_result"
    }
   ],
   "source": [
    "strat_test_set.age_group.value_counts() / len(strat_test_set)"
   ]
  },
  {
   "cell_type": "code",
   "execution_count": 42,
   "metadata": {},
   "outputs": [],
   "source": [
    "for set_ in (strat_train_set, strat_test_set):\n",
    "    set_.drop(\"age_group\", axis=1, inplace=True)"
   ]
  },
  {
   "attachments": {},
   "cell_type": "markdown",
   "metadata": {},
   "source": [
    "## Visualization"
   ]
  },
  {
   "cell_type": "code",
   "execution_count": 43,
   "metadata": {},
   "outputs": [],
   "source": [
    "diabetes = strat_train_set.copy()"
   ]
  },
  {
   "cell_type": "code",
   "execution_count": 45,
   "metadata": {},
   "outputs": [
    {
     "name": "stdout",
     "output_type": "stream",
     "text": [
      "Saving figure... scatter_plot_bioinfo\n"
     ]
    },
    {
     "data": {
      "image/png": "[encoded data removed]",
      "text/plain": [
       "<Figure size 640x480 with 1 Axes>"
      ]
     },
     "metadata": {},
     "output_type": "display_data"
    }
   ],
   "source": [
    "diabetes.plot(kind=\"scatter\", x=\"HbA1c_level\", y=\"blood_glucose_level\", alpha=0.1)\n",
    "save_fig(\"scatter_plot_bioinfo\")"
   ]
  },
  {
   "cell_type": "code",
   "execution_count": 49,
   "metadata": {},
   "outputs": [
    {
     "name": "stdout",
     "output_type": "stream",
     "text": [
      "Saving figure... diabetes_scatterplot\n"
     ]
    },
    {
     "data": {
      "image/png": "[encoded data removed]",
      "text/plain": [
       "<Figure size 640x480 with 1 Axes>"
      ]
     },
     "metadata": {},
     "output_type": "display_data"
    }
   ],
   "source": [
    "diabetes.plot(kind=\"scatter\", x=\"HbA1c_level\", y=\"blood_glucose_level\", alpha=0.4,\n",
    "    c=\"diabetes\", cmap=plt.get_cmap(\"jet\"), colorbar=False,\n",
    "    sharex=False)\n",
    "save_fig(\"diabetes_scatterplot\")"
   ]
  },
  {
   "attachments": {},
   "cell_type": "markdown",
   "metadata": {},
   "source": [
    "## Prepare for ML algorithms"
   ]
  },
  {
   "cell_type": "code",
   "execution_count": 87,
   "metadata": {},
   "outputs": [],
   "source": [
    "x_train = strat_train_set.drop(\"diabetes\", axis=1)\n",
    "y_train = strat_train_set[\"diabetes\"].copy()"
   ]
  },
  {
   "cell_type": "code",
   "execution_count": 121,
   "metadata": {},
   "outputs": [
    {
     "data": {
      "text/html": [
       "<div>\n",
       "<style scoped>\n",
       "    .dataframe tbody tr th:only-of-type {\n",
       "        vertical-align: middle;\n",
       "    }\n",
       "\n",
       "    .dataframe tbody tr th {\n",
       "        vertical-align: top;\n",
       "    }\n",
       "\n",
       "    .dataframe thead th {\n",
       "        text-align: right;\n",
       "    }\n",
       "</style>\n",
       "<table border=\"1\" class=\"dataframe\">\n",
       "  <thead>\n",
       "    <tr style=\"text-align: right;\">\n",
       "      <th></th>\n",
       "      <th>gender</th>\n",
       "      <th>smoking_history</th>\n",
       "    </tr>\n",
       "  </thead>\n",
       "  <tbody>\n",
       "    <tr>\n",
       "      <th>7924</th>\n",
       "      <td>Male</td>\n",
       "      <td>No Info</td>\n",
       "    </tr>\n",
       "    <tr>\n",
       "      <th>20211</th>\n",
       "      <td>Male</td>\n",
       "      <td>No Info</td>\n",
       "    </tr>\n",
       "    <tr>\n",
       "      <th>79993</th>\n",
       "      <td>Female</td>\n",
       "      <td>not current</td>\n",
       "    </tr>\n",
       "    <tr>\n",
       "      <th>90862</th>\n",
       "      <td>Male</td>\n",
       "      <td>never</td>\n",
       "    </tr>\n",
       "    <tr>\n",
       "      <th>88187</th>\n",
       "      <td>Male</td>\n",
       "      <td>No Info</td>\n",
       "    </tr>\n",
       "    <tr>\n",
       "      <th>52938</th>\n",
       "      <td>Male</td>\n",
       "      <td>No Info</td>\n",
       "    </tr>\n",
       "    <tr>\n",
       "      <th>9443</th>\n",
       "      <td>Male</td>\n",
       "      <td>No Info</td>\n",
       "    </tr>\n",
       "    <tr>\n",
       "      <th>89347</th>\n",
       "      <td>Male</td>\n",
       "      <td>not current</td>\n",
       "    </tr>\n",
       "    <tr>\n",
       "      <th>35895</th>\n",
       "      <td>Male</td>\n",
       "      <td>never</td>\n",
       "    </tr>\n",
       "    <tr>\n",
       "      <th>16111</th>\n",
       "      <td>Male</td>\n",
       "      <td>No Info</td>\n",
       "    </tr>\n",
       "  </tbody>\n",
       "</table>\n",
       "</div>"
      ],
      "text/plain": [
       "       gender smoking_history\n",
       "7924     Male         No Info\n",
       "20211    Male         No Info\n",
       "79993  Female     not current\n",
       "90862    Male           never\n",
       "88187    Male         No Info\n",
       "52938    Male         No Info\n",
       "9443     Male         No Info\n",
       "89347    Male     not current\n",
       "35895    Male           never\n",
       "16111    Male         No Info"
      ]
     },
     "execution_count": 121,
     "metadata": {},
     "output_type": "execute_result"
    }
   ],
   "source": [
    "x_cat = x_train[[\"gender\", \"smoking_history\"]]\n",
    "x_cat.head(10)"
   ]
  },
  {
   "cell_type": "code",
   "execution_count": 122,
   "metadata": {},
   "outputs": [
    {
     "name": "stderr",
     "output_type": "stream",
     "text": [
      "C:\\Users\\10341\\AppData\\Local\\Temp\\ipykernel_12188\\711096872.py:5: SettingWithCopyWarning: \n",
      "A value is trying to be set on a copy of a slice from a DataFrame.\n",
      "Try using .loc[row_indexer,col_indexer] = value instead\n",
      "\n",
      "See the caveats in the documentation: https://pandas.pydata.org/pandas-docs/stable/user_guide/indexing.html#returning-a-view-versus-a-copy\n",
      "  x_cat.loc[:, \"gender\"] = gender_encoded.flatten()\n"
     ]
    },
    {
     "data": {
      "text/html": [
       "<div>\n",
       "<style scoped>\n",
       "    .dataframe tbody tr th:only-of-type {\n",
       "        vertical-align: middle;\n",
       "    }\n",
       "\n",
       "    .dataframe tbody tr th {\n",
       "        vertical-align: top;\n",
       "    }\n",
       "\n",
       "    .dataframe thead th {\n",
       "        text-align: right;\n",
       "    }\n",
       "</style>\n",
       "<table border=\"1\" class=\"dataframe\">\n",
       "  <thead>\n",
       "    <tr style=\"text-align: right;\">\n",
       "      <th></th>\n",
       "      <th>gender</th>\n",
       "      <th>smoking_history</th>\n",
       "    </tr>\n",
       "  </thead>\n",
       "  <tbody>\n",
       "    <tr>\n",
       "      <th>7924</th>\n",
       "      <td>1.0</td>\n",
       "      <td>No Info</td>\n",
       "    </tr>\n",
       "    <tr>\n",
       "      <th>20211</th>\n",
       "      <td>1.0</td>\n",
       "      <td>No Info</td>\n",
       "    </tr>\n",
       "    <tr>\n",
       "      <th>79993</th>\n",
       "      <td>0.0</td>\n",
       "      <td>not current</td>\n",
       "    </tr>\n",
       "    <tr>\n",
       "      <th>90862</th>\n",
       "      <td>1.0</td>\n",
       "      <td>never</td>\n",
       "    </tr>\n",
       "    <tr>\n",
       "      <th>88187</th>\n",
       "      <td>1.0</td>\n",
       "      <td>No Info</td>\n",
       "    </tr>\n",
       "    <tr>\n",
       "      <th>52938</th>\n",
       "      <td>1.0</td>\n",
       "      <td>No Info</td>\n",
       "    </tr>\n",
       "    <tr>\n",
       "      <th>9443</th>\n",
       "      <td>1.0</td>\n",
       "      <td>No Info</td>\n",
       "    </tr>\n",
       "    <tr>\n",
       "      <th>89347</th>\n",
       "      <td>1.0</td>\n",
       "      <td>not current</td>\n",
       "    </tr>\n",
       "    <tr>\n",
       "      <th>35895</th>\n",
       "      <td>1.0</td>\n",
       "      <td>never</td>\n",
       "    </tr>\n",
       "    <tr>\n",
       "      <th>16111</th>\n",
       "      <td>1.0</td>\n",
       "      <td>No Info</td>\n",
       "    </tr>\n",
       "  </tbody>\n",
       "</table>\n",
       "</div>"
      ],
      "text/plain": [
       "       gender smoking_history\n",
       "7924      1.0         No Info\n",
       "20211     1.0         No Info\n",
       "79993     0.0     not current\n",
       "90862     1.0           never\n",
       "88187     1.0         No Info\n",
       "52938     1.0         No Info\n",
       "9443      1.0         No Info\n",
       "89347     1.0     not current\n",
       "35895     1.0           never\n",
       "16111     1.0         No Info"
      ]
     },
     "execution_count": 122,
     "metadata": {},
     "output_type": "execute_result"
    }
   ],
   "source": [
    "from sklearn.preprocessing import OrdinalEncoder\n",
    "ordinal_encoder = OrdinalEncoder()\n",
    "\n",
    "gender_encoded = ordinal_encoder.fit_transform(x_cat.iloc[:, 0].values.reshape(-1,1))\n",
    "x_cat.loc[:, \"gender\"] = gender_encoded.flatten()\n",
    "x_cat.head(10)"
   ]
  },
  {
   "cell_type": "code",
   "execution_count": 123,
   "metadata": {},
   "outputs": [
    {
     "data": {
      "text/plain": [
       "<80000x6 sparse matrix of type '<class 'numpy.float64'>'\n",
       "\twith 80000 stored elements in Compressed Sparse Row format>"
      ]
     },
     "execution_count": 123,
     "metadata": {},
     "output_type": "execute_result"
    }
   ],
   "source": [
    "from sklearn.preprocessing import OneHotEncoder\n",
    "one_hot_encoder = OneHotEncoder()\n",
    "smoking_history_encoded = one_hot_encoder.fit_transform(x_cat.iloc[:, 1].values.reshape(-1,1))\n",
    "smoking_history_encoded"
   ]
  },
  {
   "cell_type": "code",
   "execution_count": 124,
   "metadata": {},
   "outputs": [
    {
     "data": {
      "text/plain": [
       "[array(['No Info', 'current', 'ever', 'former', 'never', 'not current'],\n",
       "       dtype=object)]"
      ]
     },
     "execution_count": 124,
     "metadata": {},
     "output_type": "execute_result"
    }
   ],
   "source": [
    "one_hot_encoder.categories_"
   ]
  },
  {
   "cell_type": "code",
   "execution_count": 125,
   "metadata": {},
   "outputs": [
    {
     "data": {
      "text/plain": [
       "array([[1., 0., 0., 0., 0., 0.],\n",
       "       [1., 0., 0., 0., 0., 0.],\n",
       "       [0., 0., 0., 0., 0., 1.],\n",
       "       ...,\n",
       "       [1., 0., 0., 0., 0., 0.],\n",
       "       [0., 1., 0., 0., 0., 0.],\n",
       "       [1., 0., 0., 0., 0., 0.]])"
      ]
     },
     "execution_count": 125,
     "metadata": {},
     "output_type": "execute_result"
    }
   ],
   "source": [
    "smoking_history_encoded.toarray()"
   ]
  },
  {
   "cell_type": "code",
   "execution_count": 126,
   "metadata": {},
   "outputs": [
    {
     "name": "stderr",
     "output_type": "stream",
     "text": [
      "d:\\ProgramData\\Anaconda3\\lib\\site-packages\\sklearn\\utils\\deprecation.py:87: FutureWarning: Function get_feature_names is deprecated; get_feature_names is deprecated in 1.0 and will be removed in 1.2. Please use get_feature_names_out instead.\n",
      "  warnings.warn(msg, category=FutureWarning)\n"
     ]
    },
    {
     "data": {
      "text/html": [
       "<div>\n",
       "<style scoped>\n",
       "    .dataframe tbody tr th:only-of-type {\n",
       "        vertical-align: middle;\n",
       "    }\n",
       "\n",
       "    .dataframe tbody tr th {\n",
       "        vertical-align: top;\n",
       "    }\n",
       "\n",
       "    .dataframe thead th {\n",
       "        text-align: right;\n",
       "    }\n",
       "</style>\n",
       "<table border=\"1\" class=\"dataframe\">\n",
       "  <thead>\n",
       "    <tr style=\"text-align: right;\">\n",
       "      <th></th>\n",
       "      <th>smoking_No Info</th>\n",
       "      <th>smoking_current</th>\n",
       "      <th>smoking_ever</th>\n",
       "      <th>smoking_former</th>\n",
       "      <th>smoking_never</th>\n",
       "      <th>smoking_not current</th>\n",
       "    </tr>\n",
       "  </thead>\n",
       "  <tbody>\n",
       "    <tr>\n",
       "      <th>7924</th>\n",
       "      <td>1.0</td>\n",
       "      <td>0.0</td>\n",
       "      <td>0.0</td>\n",
       "      <td>0.0</td>\n",
       "      <td>0.0</td>\n",
       "      <td>0.0</td>\n",
       "    </tr>\n",
       "    <tr>\n",
       "      <th>20211</th>\n",
       "      <td>1.0</td>\n",
       "      <td>0.0</td>\n",
       "      <td>0.0</td>\n",
       "      <td>0.0</td>\n",
       "      <td>0.0</td>\n",
       "      <td>0.0</td>\n",
       "    </tr>\n",
       "    <tr>\n",
       "      <th>79993</th>\n",
       "      <td>0.0</td>\n",
       "      <td>0.0</td>\n",
       "      <td>0.0</td>\n",
       "      <td>0.0</td>\n",
       "      <td>0.0</td>\n",
       "      <td>1.0</td>\n",
       "    </tr>\n",
       "    <tr>\n",
       "      <th>90862</th>\n",
       "      <td>0.0</td>\n",
       "      <td>0.0</td>\n",
       "      <td>0.0</td>\n",
       "      <td>0.0</td>\n",
       "      <td>1.0</td>\n",
       "      <td>0.0</td>\n",
       "    </tr>\n",
       "    <tr>\n",
       "      <th>88187</th>\n",
       "      <td>1.0</td>\n",
       "      <td>0.0</td>\n",
       "      <td>0.0</td>\n",
       "      <td>0.0</td>\n",
       "      <td>0.0</td>\n",
       "      <td>0.0</td>\n",
       "    </tr>\n",
       "  </tbody>\n",
       "</table>\n",
       "</div>"
      ],
      "text/plain": [
       "       smoking_No Info  smoking_current  smoking_ever  smoking_former  \\\n",
       "7924               1.0              0.0           0.0             0.0   \n",
       "20211              1.0              0.0           0.0             0.0   \n",
       "79993              0.0              0.0           0.0             0.0   \n",
       "90862              0.0              0.0           0.0             0.0   \n",
       "88187              1.0              0.0           0.0             0.0   \n",
       "\n",
       "       smoking_never  smoking_not current  \n",
       "7924             0.0                  0.0  \n",
       "20211            0.0                  0.0  \n",
       "79993            0.0                  1.0  \n",
       "90862            1.0                  0.0  \n",
       "88187            0.0                  0.0  "
      ]
     },
     "execution_count": 126,
     "metadata": {},
     "output_type": "execute_result"
    }
   ],
   "source": [
    "smoking_history_encoded.columns = one_hot_encoder.get_feature_names([\"smoking\"])\n",
    "smoking_history = pd.DataFrame(smoking_history_encoded.todense(), columns=smoking_history_encoded.columns)\n",
    "smoking_history = smoking_history.set_index(x_cat.index)\n",
    "smoking_history.head()"
   ]
  },
  {
   "cell_type": "code",
   "execution_count": 127,
   "metadata": {},
   "outputs": [
    {
     "data": {
      "text/html": [
       "<div>\n",
       "<style scoped>\n",
       "    .dataframe tbody tr th:only-of-type {\n",
       "        vertical-align: middle;\n",
       "    }\n",
       "\n",
       "    .dataframe tbody tr th {\n",
       "        vertical-align: top;\n",
       "    }\n",
       "\n",
       "    .dataframe thead th {\n",
       "        text-align: right;\n",
       "    }\n",
       "</style>\n",
       "<table border=\"1\" class=\"dataframe\">\n",
       "  <thead>\n",
       "    <tr style=\"text-align: right;\">\n",
       "      <th></th>\n",
       "      <th>gender</th>\n",
       "      <th>smoking_No Info</th>\n",
       "      <th>smoking_current</th>\n",
       "      <th>smoking_ever</th>\n",
       "      <th>smoking_former</th>\n",
       "      <th>smoking_never</th>\n",
       "      <th>smoking_not current</th>\n",
       "    </tr>\n",
       "  </thead>\n",
       "  <tbody>\n",
       "    <tr>\n",
       "      <th>7924</th>\n",
       "      <td>1.0</td>\n",
       "      <td>1.0</td>\n",
       "      <td>0.0</td>\n",
       "      <td>0.0</td>\n",
       "      <td>0.0</td>\n",
       "      <td>0.0</td>\n",
       "      <td>0.0</td>\n",
       "    </tr>\n",
       "    <tr>\n",
       "      <th>20211</th>\n",
       "      <td>1.0</td>\n",
       "      <td>1.0</td>\n",
       "      <td>0.0</td>\n",
       "      <td>0.0</td>\n",
       "      <td>0.0</td>\n",
       "      <td>0.0</td>\n",
       "      <td>0.0</td>\n",
       "    </tr>\n",
       "    <tr>\n",
       "      <th>79993</th>\n",
       "      <td>0.0</td>\n",
       "      <td>0.0</td>\n",
       "      <td>0.0</td>\n",
       "      <td>0.0</td>\n",
       "      <td>0.0</td>\n",
       "      <td>0.0</td>\n",
       "      <td>1.0</td>\n",
       "    </tr>\n",
       "    <tr>\n",
       "      <th>90862</th>\n",
       "      <td>1.0</td>\n",
       "      <td>0.0</td>\n",
       "      <td>0.0</td>\n",
       "      <td>0.0</td>\n",
       "      <td>0.0</td>\n",
       "      <td>1.0</td>\n",
       "      <td>0.0</td>\n",
       "    </tr>\n",
       "    <tr>\n",
       "      <th>88187</th>\n",
       "      <td>1.0</td>\n",
       "      <td>1.0</td>\n",
       "      <td>0.0</td>\n",
       "      <td>0.0</td>\n",
       "      <td>0.0</td>\n",
       "      <td>0.0</td>\n",
       "      <td>0.0</td>\n",
       "    </tr>\n",
       "    <tr>\n",
       "      <th>52938</th>\n",
       "      <td>1.0</td>\n",
       "      <td>1.0</td>\n",
       "      <td>0.0</td>\n",
       "      <td>0.0</td>\n",
       "      <td>0.0</td>\n",
       "      <td>0.0</td>\n",
       "      <td>0.0</td>\n",
       "    </tr>\n",
       "    <tr>\n",
       "      <th>9443</th>\n",
       "      <td>1.0</td>\n",
       "      <td>1.0</td>\n",
       "      <td>0.0</td>\n",
       "      <td>0.0</td>\n",
       "      <td>0.0</td>\n",
       "      <td>0.0</td>\n",
       "      <td>0.0</td>\n",
       "    </tr>\n",
       "    <tr>\n",
       "      <th>89347</th>\n",
       "      <td>1.0</td>\n",
       "      <td>0.0</td>\n",
       "      <td>0.0</td>\n",
       "      <td>0.0</td>\n",
       "      <td>0.0</td>\n",
       "      <td>0.0</td>\n",
       "      <td>1.0</td>\n",
       "    </tr>\n",
       "    <tr>\n",
       "      <th>35895</th>\n",
       "      <td>1.0</td>\n",
       "      <td>0.0</td>\n",
       "      <td>0.0</td>\n",
       "      <td>0.0</td>\n",
       "      <td>0.0</td>\n",
       "      <td>1.0</td>\n",
       "      <td>0.0</td>\n",
       "    </tr>\n",
       "    <tr>\n",
       "      <th>16111</th>\n",
       "      <td>1.0</td>\n",
       "      <td>1.0</td>\n",
       "      <td>0.0</td>\n",
       "      <td>0.0</td>\n",
       "      <td>0.0</td>\n",
       "      <td>0.0</td>\n",
       "      <td>0.0</td>\n",
       "    </tr>\n",
       "  </tbody>\n",
       "</table>\n",
       "</div>"
      ],
      "text/plain": [
       "       gender  smoking_No Info  smoking_current  smoking_ever  smoking_former  \\\n",
       "7924      1.0              1.0              0.0           0.0             0.0   \n",
       "20211     1.0              1.0              0.0           0.0             0.0   \n",
       "79993     0.0              0.0              0.0           0.0             0.0   \n",
       "90862     1.0              0.0              0.0           0.0             0.0   \n",
       "88187     1.0              1.0              0.0           0.0             0.0   \n",
       "52938     1.0              1.0              0.0           0.0             0.0   \n",
       "9443      1.0              1.0              0.0           0.0             0.0   \n",
       "89347     1.0              0.0              0.0           0.0             0.0   \n",
       "35895     1.0              0.0              0.0           0.0             0.0   \n",
       "16111     1.0              1.0              0.0           0.0             0.0   \n",
       "\n",
       "       smoking_never  smoking_not current  \n",
       "7924             0.0                  0.0  \n",
       "20211            0.0                  0.0  \n",
       "79993            0.0                  1.0  \n",
       "90862            1.0                  0.0  \n",
       "88187            0.0                  0.0  \n",
       "52938            0.0                  0.0  \n",
       "9443             0.0                  0.0  \n",
       "89347            0.0                  1.0  \n",
       "35895            1.0                  0.0  \n",
       "16111            0.0                  0.0  "
      ]
     },
     "execution_count": 127,
     "metadata": {},
     "output_type": "execute_result"
    }
   ],
   "source": [
    "x_cat = pd.concat([x_cat, smoking_history], axis=1)\n",
    "x_cat.drop(\"smoking_history\", axis=1, inplace=True)\n",
    "x_cat.head(10)"
   ]
  },
  {
   "cell_type": "code",
   "execution_count": 128,
   "metadata": {},
   "outputs": [
    {
     "name": "stdout",
     "output_type": "stream",
     "text": [
      "<class 'pandas.core.frame.DataFrame'>\n",
      "Int64Index: 80000 entries, 7924 to 84037\n",
      "Data columns (total 7 columns):\n",
      " #   Column               Non-Null Count  Dtype\n",
      "---  ------               --------------  -----\n",
      " 0   gender               80000 non-null  uint8\n",
      " 1   smoking_No Info      80000 non-null  uint8\n",
      " 2   smoking_current      80000 non-null  uint8\n",
      " 3   smoking_ever         80000 non-null  uint8\n",
      " 4   smoking_former       80000 non-null  uint8\n",
      " 5   smoking_never        80000 non-null  uint8\n",
      " 6   smoking_not current  80000 non-null  uint8\n",
      "dtypes: uint8(7)\n",
      "memory usage: 3.2 MB\n"
     ]
    }
   ],
   "source": [
    "x_cat = x_cat.astype({\"gender\": \"uint8\", \"smoking_No Info\": \"uint8\", \"smoking_current\": \"uint8\", \n",
    "                 \"smoking_ever\": \"uint8\", \"smoking_former\": \"uint8\",\"smoking_never\": \"uint8\", \"smoking_not current\": \"uint8\"})\n",
    "x_cat.info()"
   ]
  },
  {
   "cell_type": "code",
   "execution_count": 132,
   "metadata": {},
   "outputs": [],
   "source": [
    "x_cat = pd.concat([x_cat, x_train[[\"hypertension\", \"heart_disease\"]]], axis=1)"
   ]
  },
  {
   "cell_type": "code",
   "execution_count": 134,
   "metadata": {},
   "outputs": [
    {
     "data": {
      "text/html": [
       "<div>\n",
       "<style scoped>\n",
       "    .dataframe tbody tr th:only-of-type {\n",
       "        vertical-align: middle;\n",
       "    }\n",
       "\n",
       "    .dataframe tbody tr th {\n",
       "        vertical-align: top;\n",
       "    }\n",
       "\n",
       "    .dataframe thead th {\n",
       "        text-align: right;\n",
       "    }\n",
       "</style>\n",
       "<table border=\"1\" class=\"dataframe\">\n",
       "  <thead>\n",
       "    <tr style=\"text-align: right;\">\n",
       "      <th></th>\n",
       "      <th>age</th>\n",
       "      <th>bmi</th>\n",
       "      <th>HbA1c_level</th>\n",
       "      <th>blood_glucose_level</th>\n",
       "    </tr>\n",
       "  </thead>\n",
       "  <tbody>\n",
       "    <tr>\n",
       "      <th>7924</th>\n",
       "      <td>15.0</td>\n",
       "      <td>26.34</td>\n",
       "      <td>3.5</td>\n",
       "      <td>140.0</td>\n",
       "    </tr>\n",
       "    <tr>\n",
       "      <th>20211</th>\n",
       "      <td>44.0</td>\n",
       "      <td>27.32</td>\n",
       "      <td>4.0</td>\n",
       "      <td>159.0</td>\n",
       "    </tr>\n",
       "    <tr>\n",
       "      <th>79993</th>\n",
       "      <td>47.0</td>\n",
       "      <td>28.90</td>\n",
       "      <td>4.8</td>\n",
       "      <td>85.0</td>\n",
       "    </tr>\n",
       "    <tr>\n",
       "      <th>90862</th>\n",
       "      <td>8.0</td>\n",
       "      <td>15.07</td>\n",
       "      <td>5.8</td>\n",
       "      <td>90.0</td>\n",
       "    </tr>\n",
       "    <tr>\n",
       "      <th>88187</th>\n",
       "      <td>14.0</td>\n",
       "      <td>20.59</td>\n",
       "      <td>4.8</td>\n",
       "      <td>159.0</td>\n",
       "    </tr>\n",
       "  </tbody>\n",
       "</table>\n",
       "</div>"
      ],
      "text/plain": [
       "        age    bmi  HbA1c_level  blood_glucose_level\n",
       "7924   15.0  26.34          3.5                140.0\n",
       "20211  44.0  27.32          4.0                159.0\n",
       "79993  47.0  28.90          4.8                 85.0\n",
       "90862   8.0  15.07          5.8                 90.0\n",
       "88187  14.0  20.59          4.8                159.0"
      ]
     },
     "execution_count": 134,
     "metadata": {},
     "output_type": "execute_result"
    }
   ],
   "source": [
    "x_num = x_train.drop([\"hypertension\", \"heart_disease\", \"gender\", \"smoking_history\"], axis=1)\n",
    "x_num.head()"
   ]
  },
  {
   "cell_type": "code",
   "execution_count": 135,
   "metadata": {},
   "outputs": [
    {
     "data": {
      "text/plain": [
       "7924     0\n",
       "20211    0\n",
       "79993    0\n",
       "90862    0\n",
       "88187    0\n",
       "Name: diabetes, dtype: uint8"
      ]
     },
     "execution_count": 135,
     "metadata": {},
     "output_type": "execute_result"
    }
   ],
   "source": [
    "y_train.head()"
   ]
  },
  {
   "attachments": {},
   "cell_type": "markdown",
   "metadata": {},
   "source": [
    "## SGD from scratch"
   ]
  },
  {
   "cell_type": "code",
   "execution_count": 144,
   "metadata": {},
   "outputs": [],
   "source": [
    "import numpy as np\n",
    "\n",
    "class SGD:\n",
    "    def __init__(self, learning_rate=0.01, epochs=100):\n",
    "        self.learning_rate = learning_rate\n",
    "        self.epochs = epochs\n",
    "    \n",
    "    def fit(self, X, y):\n",
    "        self.weight = np.zeros(X.shape[1])\n",
    "        self.bias = 0\n",
    "\n",
    "        for epoch in range(self.epochs):\n",
    "            for i in range(X.shape[0]):\n",
    "                perceptor_i = y[i] * (np.dot(self.weight, X[i]) + self.bias)\n",
    "                if perceptor_i <= 0:\n",
    "                    self.weight += self.learning_rate * y[i] * X[i]\n",
    "                    self.bias += self.learning_rate * y[i]\n",
    "    \n",
    "    def predict(self, X):\n",
    "        y_pred = np.zeros(X.shape[0], dtype=np.int8)\n",
    "        for i in range(X.shape[0]):\n",
    "            if np.dot(self.weight, X[i]) + self.bias > 0:\n",
    "                y_pred[i] = 1\n",
    "            else:\n",
    "                y_pred[i] = -1\n",
    "        return y_pred"
   ]
  },
  {
   "cell_type": "code",
   "execution_count": 155,
   "metadata": {},
   "outputs": [],
   "source": [
    "y_train = y_train.astype(\"int8\").replace(0, -1)\n",
    "sgd = SGD()\n",
    "sgd.fit(x_num.values, y_train.values.ravel())"
   ]
  },
  {
   "cell_type": "code",
   "execution_count": 156,
   "metadata": {},
   "outputs": [
    {
     "name": "stdout",
     "output_type": "stream",
     "text": [
      "Weights: [ 1.41072455  2.18106485 66.88013031  1.70294017]\n",
      "Bias: -865.4499999993579\n"
     ]
    }
   ],
   "source": [
    "print('Weights:', sgd.weight)\n",
    "print('Bias:', sgd.bias)"
   ]
  },
  {
   "cell_type": "code",
   "execution_count": 157,
   "metadata": {},
   "outputs": [],
   "source": [
    "x_test = strat_test_set.drop(\"diabetes\", axis=1)\n",
    "x_test_num = x_test.drop([\"hypertension\", \"heart_disease\", \"gender\", \"smoking_history\"], axis=1)\n",
    "y_test = strat_test_set[\"diabetes\"].copy()\n",
    "y_test = y_test.astype(\"int8\").replace(0, -1)\n",
    "y_pred = sgd.predict(x_test_num.values)"
   ]
  },
  {
   "cell_type": "code",
   "execution_count": 160,
   "metadata": {},
   "outputs": [
    {
     "name": "stdout",
     "output_type": "stream",
     "text": [
      "Misclassified:  0.057\n"
     ]
    }
   ],
   "source": [
    "error_rate = np.mean(y_pred != y_test.values)\n",
    "print(\"Misclassified: \", error_rate)"
   ]
  },
  {
   "cell_type": "code",
   "execution_count": 181,
   "metadata": {},
   "outputs": [],
   "source": [
    "class SGD_Moment(SGD):\n",
    "    def __init__(self, learning_rate=0.1, epochs=100, momentum=0.9, epsilon=1e-3):\n",
    "        super().__init__(learning_rate, epochs)\n",
    "        self.momentum = momentum\n",
    "        self.epsilon = epsilon\n",
    "\n",
    "    def fit(self, X, y):\n",
    "        self.weight = np.zeros(X.shape[1])\n",
    "        v_w = self.weight\n",
    "        prev_w = self.weight.copy()\n",
    "        self.bias = 0\n",
    "        v_b = self.bias\n",
    "        prev_b = self.bias\n",
    "\n",
    "        for epoch in range(self.epochs):\n",
    "            for i in range(X.shape[0]):\n",
    "                perceptor_i = y[i] * (np.dot(self.weight, X[i]) + self.bias)\n",
    "                if perceptor_i <= 0:\n",
    "                    v_w = self.momentum * v_w - y[i] * X[i]\n",
    "                    v_b = self.momentum * v_b - y[i]\n",
    "                    self.weight -= self.learning_rate * v_w\n",
    "                    self.bias -= self.learning_rate * v_b\n",
    "            if np.linalg.norm(self.weight - prev_w) < self.epsilon and abs(self.bias - prev_b) < self.epsilon:\n",
    "                break\n",
    "            prev_w = self.weight.copy()\n",
    "            prev_b = self.bias"
   ]
  },
  {
   "cell_type": "code",
   "execution_count": 182,
   "metadata": {},
   "outputs": [],
   "source": [
    "sgd_moment = SGD_Moment()\n",
    "sgd_moment.fit(x_num.values, y_train.values.ravel())"
   ]
  },
  {
   "cell_type": "code",
   "execution_count": 183,
   "metadata": {},
   "outputs": [
    {
     "name": "stdout",
     "output_type": "stream",
     "text": [
      "Weights(Momentum fit): [  58.73677174  102.40505317 3668.47113014   52.08839126]\n",
      "Bias(Momentum fit): -46374.1065710263\n"
     ]
    }
   ],
   "source": [
    "print('Weights(Momentum fit):', sgd_moment.weight)\n",
    "print('Bias(Momentum fit):', sgd_moment.bias)"
   ]
  },
  {
   "cell_type": "code",
   "execution_count": 184,
   "metadata": {},
   "outputs": [
    {
     "name": "stdout",
     "output_type": "stream",
     "text": [
      "Misclassified(Momentum fit):  0.06555\n"
     ]
    }
   ],
   "source": [
    "y_pred_m = sgd_moment.predict(x_test_num.values)\n",
    "error_rate = np.mean(y_pred_m != y_test.values)\n",
    "print(\"Misclassified(Momentum fit): \", error_rate)"
   ]
  },
  {
   "attachments": {},
   "cell_type": "markdown",
   "metadata": {},
   "source": [
    "## LR scheduler from scratch"
   ]
  },
  {
   "cell_type": "code",
   "execution_count": 185,
   "metadata": {},
   "outputs": [],
   "source": [
    "class StepLR:\n",
    "    def __init__(self, optimizer, step_size, gamma=0.1):\n",
    "        self.optimizer = optimizer\n",
    "        self.step_size = step_size\n",
    "        self.gamma = gamma\n",
    "        self.last_epoch = 0\n",
    "    \n",
    "    def step(self):\n",
    "        if (self.last_epoch + 1) % self.step_size == 0:\n",
    "            self.optimizer.learning_rate *= self.gamma\n",
    "        self.last_epoch += 1"
   ]
  },
  {
   "cell_type": "code",
   "execution_count": 214,
   "metadata": {},
   "outputs": [],
   "source": [
    "class CosineAnnealingLR:\n",
    "    def __init__(self, optimizer, T_max, eta_min=0) -> None:\n",
    "        self.optimizer = optimizer\n",
    "        self.T_max = T_max\n",
    "        self.eta_min = eta_min\n",
    "        self.last_epoch = 0\n",
    "    \n",
    "    def step(self):\n",
    "        self.optimizer.learning_rate = self.eta_min \\\n",
    "        + (self.optimizer.learning_rate - self.eta_min) \\\n",
    "        * (1 + np.cos(np.pi * self.last_epoch / self.T_max))/2\n",
    "        self.last_epoch += 1"
   ]
  },
  {
   "cell_type": "code",
   "execution_count": 206,
   "metadata": {},
   "outputs": [],
   "source": [
    "class SGD_Base:\n",
    "    def __init__(self, learning_rate=0.01, epochs=100, epsilon=1e-3):\n",
    "        self.learning_rate = learning_rate\n",
    "        self.epochs = epochs\n",
    "        self.epsilon = epsilon\n",
    "    \n",
    "    def fit(self, X, y):\n",
    "        self.weight = np.zeros(X.shape[1])\n",
    "        self.bias = 0\n",
    "        prev_w = self.weight.copy()\n",
    "        prev_b = self.bias\n",
    "\n",
    "        for epoch in range(self.epochs):\n",
    "            for i in range(X.shape[0]):\n",
    "                perceptor_i = y[i] * (np.dot(self.weight, X[i]) + self.bias)\n",
    "                if perceptor_i <= 0:\n",
    "                    self.weight += self.learning_rate * y[i] * X[i]\n",
    "                    self.bias += self.learning_rate * y[i]\n",
    "                    \n",
    "            if np.linalg.norm(self.weight - prev_w) < self.epsilon and abs(self.bias - prev_b) < self.epsilon:\n",
    "                break\n",
    "            prev_w = self.weight.copy()\n",
    "            prev_b = self.bias\n",
    "        \n",
    "            if hasattr(self, 'scheduler'):\n",
    "                self.scheduler.step()\n",
    "    \n",
    "    def predict(self, X):\n",
    "        y_pred = np.zeros(X.shape[0], dtype=np.int8)\n",
    "        for i in range(X.shape[0]):\n",
    "            if np.dot(self.weight, X[i]) + self.bias > 0:\n",
    "                y_pred[i] = 1\n",
    "            else:\n",
    "                   y_pred[i] = -1\n",
    "        return y_pred"
   ]
  },
  {
   "cell_type": "code",
   "execution_count": 207,
   "metadata": {},
   "outputs": [],
   "source": [
    "class SGD_StepLR(SGD_Base):\n",
    "    def __init__(self, learning_rate=0.01, epochs=100, epsilon=1e-3):\n",
    "        super().__init__(learning_rate, epochs, epsilon)\n",
    "        self.scheduler = StepLR(self, step_size=20, gamma=0.1)"
   ]
  },
  {
   "cell_type": "code",
   "execution_count": 208,
   "metadata": {},
   "outputs": [],
   "source": [
    "sgd_steplr = SGD_StepLR()\n",
    "sgd_steplr.fit(x_num.values, y_train.values)"
   ]
  },
  {
   "cell_type": "code",
   "execution_count": 209,
   "metadata": {},
   "outputs": [
    {
     "name": "stdout",
     "output_type": "stream",
     "text": [
      "Weights(StepLR):  [ 0.51563173  1.07187836 27.10848101  0.29845539]\n",
      "Bias(StepLR):  -288.7997470001374\n",
      "Learning Rate:  1.0000000000000002e-06\n"
     ]
    }
   ],
   "source": [
    "print('Weights(StepLR): ', sgd_steplr.weight)\n",
    "print('Bias(StepLR): ', sgd_steplr.bias)\n",
    "print('Learning Rate: ', sgd_steplr.learning_rate)"
   ]
  },
  {
   "cell_type": "code",
   "execution_count": 210,
   "metadata": {},
   "outputs": [
    {
     "name": "stdout",
     "output_type": "stream",
     "text": [
      "Misclassified(StepLR):  0.0494\n"
     ]
    }
   ],
   "source": [
    "y_pred_stepLR = sgd_steplr.predict(x_test_num.values)\n",
    "error_rate = np.mean(y_pred_stepLR != y_test.values)\n",
    "print(\"Misclassified(StepLR): \", error_rate)"
   ]
  },
  {
   "cell_type": "code",
   "execution_count": 211,
   "metadata": {},
   "outputs": [],
   "source": [
    "class SGD_CosineAnnealingLR(SGD_Base):\n",
    "    def __init__(self, learning_rate=0.01, epochs=100, epsilon=1e-3):\n",
    "        super().__init__(learning_rate, epochs, epsilon)\n",
    "        self.scheduler = CosineAnnealingLR(self, T_max=30)"
   ]
  },
  {
   "cell_type": "code",
   "execution_count": 215,
   "metadata": {},
   "outputs": [],
   "source": [
    "sgd_cos = SGD_CosineAnnealingLR()\n",
    "sgd_cos.fit(x_num.values, y_train.values)"
   ]
  },
  {
   "cell_type": "code",
   "execution_count": 216,
   "metadata": {},
   "outputs": [
    {
     "name": "stdout",
     "output_type": "stream",
     "text": [
      "Weights(CosineAnnealingLR):  [ 0.31602329  0.64747704 12.23663792  0.17377187]\n",
      "Bias(CosineAnnealingLR):  -147.51791956610185\n",
      "Learning Rate:  2.419063292898559e-07\n"
     ]
    }
   ],
   "source": [
    "print('Weights(CosineAnnealingLR): ', sgd_cos.weight)\n",
    "print('Bias(CosineAnnealingLR): ', sgd_cos.bias)\n",
    "print('Learning Rate: ', sgd_cos.learning_rate)"
   ]
  },
  {
   "cell_type": "code",
   "execution_count": 217,
   "metadata": {},
   "outputs": [
    {
     "name": "stdout",
     "output_type": "stream",
     "text": [
      "Misclassified(ConsineAnnelingLR):  0.0482\n"
     ]
    }
   ],
   "source": [
    "y_pred_cos = sgd_cos.predict(x_test_num.values)\n",
    "error_rate = np.mean(y_pred_cos != y_test.values)\n",
    "print(\"Misclassified(ConsineAnnelingLR): \", error_rate)"
   ]
  }
 ],
 "metadata": {
  "kernelspec": {
   "display_name": "base",
   "language": "python",
   "name": "python3"
  },
  "language_info": {
   "codemirror_mode": {
    "name": "ipython",
    "version": 3
   },
   "file_extension": ".py",
   "mimetype": "text/x-python",
   "name": "python",
   "nbconvert_exporter": "python",
   "pygments_lexer": "ipython3",
   "version": "3.9.13"
  },
  "orig_nbformat": 4
 },
 "nbformat": 4,
 "nbformat_minor": 2
}
